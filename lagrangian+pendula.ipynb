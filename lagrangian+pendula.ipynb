{
 "cells": [
  {
   "cell_type": "markdown",
   "metadata": {},
   "source": [
    "I want to try to figure out a way to do a Lagrangian approach in Python.\n",
    "In Mathematica I'd define the Lagrangian and then do the Euler Lagrange equation:\n",
    "$$\\frac{\\partial L}{\\partial x_i}-\\frac{d}{dt}\\frac{\\partial L}{\\partial \\dot{x}_i}=0$$\n",
    "for all the variables $x_i$. In this notebook I'm going to try to basically do the same thing."
   ]
  },
  {
   "cell_type": "code",
   "execution_count": 1,
   "metadata": {},
   "outputs": [
    {
     "data": {
      "text/plain": [
       "L1*g*m1*cos(theta(t)) - g*m2*(-L1*cos(theta(t)) - L2*cos(phi(t))) + m1*(L1**2*sin(theta(t))**2*Derivative(theta(t), t)**2 + L1**2*cos(theta(t))**2*Derivative(theta(t), t)**2)/2 + m2*((L1*sin(theta(t))*Derivative(theta(t), t) + L2*sin(phi(t))*Derivative(phi(t), t))**2 + (L1*cos(theta(t))*Derivative(theta(t), t) + L2*cos(phi(t))*Derivative(phi(t), t))**2)/2"
      ]
     },
     "execution_count": 1,
     "metadata": {},
     "output_type": "execute_result"
    }
   ],
   "source": [
    "import sympy as sym\n",
    "t=sym.Symbol('t')\n",
    "theta = sym.Function('theta')(t)\n",
    "phi = sym.Function('phi')(t)\n",
    "L1,L2,m1,m2,g = sym.symbols('L1 L2 m1 m2 g') \n",
    "x1 = L1*sym.sin(theta)\n",
    "x2 = x1 + L2*sym.sin(phi)\n",
    "y1 = -L1*sym.cos(theta)\n",
    "y2 = y1 - L2*sym.cos(phi)\n",
    "V = m1*g*y1 + m2*g*y2 \n",
    "T = (m1*(sym.diff(x1,t)**2+sym.diff(y1,t)**2)/2 + (m2*(sym.diff(x2,t)**2 + sym.diff(y2,t)**2)/2)) \n",
    "L = T-V\n",
    "L"
   ]
  },
  {
   "cell_type": "markdown",
   "metadata": {},
   "source": [
    "That's pretty ugly, but sympy handles it fine. Next is to do the E-L stuff"
   ]
  },
  {
   "cell_type": "code",
   "execution_count": 2,
   "metadata": {},
   "outputs": [
    {
     "data": {
      "text/plain": [
       "-L1*g*m1*sin(theta(t)) - L1*g*m2*sin(theta(t)) - L1*(L1*m1*(sin(theta(t))**2 + cos(theta(t))**2)*Derivative(theta(t), t, t) + m2*((L1*sin(theta(t))*Derivative(theta(t), t) + L2*sin(phi(t))*Derivative(phi(t), t))*cos(theta(t))*Derivative(theta(t), t) - (L1*cos(theta(t))*Derivative(theta(t), t) + L2*cos(phi(t))*Derivative(phi(t), t))*sin(theta(t))*Derivative(theta(t), t) - (L1*sin(theta(t))*Derivative(theta(t), t)**2 - L1*cos(theta(t))*Derivative(theta(t), t, t) + L2*sin(phi(t))*Derivative(phi(t), t)**2 - L2*cos(phi(t))*Derivative(phi(t), t, t))*cos(theta(t)) + (L1*sin(theta(t))*Derivative(theta(t), t, t) + L1*cos(theta(t))*Derivative(theta(t), t)**2 + L2*sin(phi(t))*Derivative(phi(t), t, t) + L2*cos(phi(t))*Derivative(phi(t), t)**2)*sin(theta(t)))) + m2*(2*L1*(L1*sin(theta(t))*Derivative(theta(t), t) + L2*sin(phi(t))*Derivative(phi(t), t))*cos(theta(t))*Derivative(theta(t), t) - 2*L1*(L1*cos(theta(t))*Derivative(theta(t), t) + L2*cos(phi(t))*Derivative(phi(t), t))*sin(theta(t))*Derivative(theta(t), t))/2"
      ]
     },
     "execution_count": 2,
     "metadata": {},
     "output_type": "execute_result"
    }
   ],
   "source": [
    "theta_equation=sym.diff(L,theta)-sym.diff(L,theta.diff(t),t)\n",
    "theta_equation"
   ]
  },
  {
   "cell_type": "markdown",
   "metadata": {},
   "source": [
    "again pretty ugly, but it's all there. I'll do the same for phi:"
   ]
  },
  {
   "cell_type": "code",
   "execution_count": 3,
   "metadata": {},
   "outputs": [
    {
     "data": {
      "text/plain": [
       "-L2*g*m2*sin(phi(t)) - L2*m2*((L1*sin(theta(t))*Derivative(theta(t), t) + L2*sin(phi(t))*Derivative(phi(t), t))*cos(phi(t))*Derivative(phi(t), t) - (L1*cos(theta(t))*Derivative(theta(t), t) + L2*cos(phi(t))*Derivative(phi(t), t))*sin(phi(t))*Derivative(phi(t), t) - (L1*sin(theta(t))*Derivative(theta(t), t)**2 - L1*cos(theta(t))*Derivative(theta(t), t, t) + L2*sin(phi(t))*Derivative(phi(t), t)**2 - L2*cos(phi(t))*Derivative(phi(t), t, t))*cos(phi(t)) + (L1*sin(theta(t))*Derivative(theta(t), t, t) + L1*cos(theta(t))*Derivative(theta(t), t)**2 + L2*sin(phi(t))*Derivative(phi(t), t, t) + L2*cos(phi(t))*Derivative(phi(t), t)**2)*sin(phi(t))) + m2*(2*L2*(L1*sin(theta(t))*Derivative(theta(t), t) + L2*sin(phi(t))*Derivative(phi(t), t))*cos(phi(t))*Derivative(phi(t), t) - 2*L2*(L1*cos(theta(t))*Derivative(theta(t), t) + L2*cos(phi(t))*Derivative(phi(t), t))*sin(phi(t))*Derivative(phi(t), t))/2"
      ]
     },
     "execution_count": 3,
     "metadata": {},
     "output_type": "execute_result"
    }
   ],
   "source": [
    "phi_equation = sym.diff(L, phi) - sym.diff(L, phi.diff(t), t)\n",
    "phi_equation"
   ]
  },
  {
   "cell_type": "markdown",
   "metadata": {},
   "source": [
    "Ok, now we've got the equations we need. Unfortunately, in order to integrate them using odeint we need to turn most of the variables into dummy variables. I found this on a stackexchange site:"
   ]
  },
  {
   "cell_type": "code",
   "execution_count": 4,
   "metadata": {
    "collapsed": true
   },
   "outputs": [],
   "source": [
    "def dummify_undefined_functions(expr): \n",
    "    mapping = {} # replace all Derivative terms \n",
    "    for der in expr.atoms(sym.Derivative): \n",
    "        f_name = der.expr.func.__name__ \n",
    "        var_names = [var.name for var in der.variables] \n",
    "        name = \"d%s_d%s\" % (f_name, 'd'.join(var_names)) \n",
    "        mapping[der] = sym.Symbol(name) \n",
    "        # replace undefined functions \n",
    "        from sympy.core.function import AppliedUndef \n",
    "        for f in expr.atoms(AppliedUndef): \n",
    "            f_name = f.func.__name__ \n",
    "            mapping[f] = sym.Symbol(f_name) \n",
    "    return expr.subs(mapping)"
   ]
  },
  {
   "cell_type": "markdown",
   "metadata": {},
   "source": [
    "That function can replace something like Derivative(theta(t), t, t) with dtheta_dtdt:"
   ]
  },
  {
   "cell_type": "code",
   "execution_count": 6,
   "metadata": {},
   "outputs": [
    {
     "data": {
      "text/plain": [
       "-L1*g*m1*sin(theta) - L1*g*m2*sin(theta) - L1*(L1*dtheta_dtdt*m1*(sin(theta)**2 + cos(theta)**2) + m2*(dtheta_dt*(L1*dtheta_dt*sin(theta) + L2*dphi_dt*sin(phi))*cos(theta) - dtheta_dt*(L1*dtheta_dt*cos(theta) + L2*dphi_dt*cos(phi))*sin(theta) - (L1*dtheta_dt**2*sin(theta) - L1*dtheta_dtdt*cos(theta) + L2*dphi_dt**2*sin(phi) - L2*dphi_dtdt*cos(phi))*cos(theta) + (L1*dtheta_dt**2*cos(theta) + L1*dtheta_dtdt*sin(theta) + L2*dphi_dt**2*cos(phi) + L2*dphi_dtdt*sin(phi))*sin(theta))) + m2*(2*L1*dtheta_dt*(L1*dtheta_dt*sin(theta) + L2*dphi_dt*sin(phi))*cos(theta) - 2*L1*dtheta_dt*(L1*dtheta_dt*cos(theta) + L2*dphi_dt*cos(phi))*sin(theta))/2"
      ]
     },
     "execution_count": 6,
     "metadata": {},
     "output_type": "execute_result"
    }
   ],
   "source": [
    "theta_equation_dummified=dummify_undefined_functions(theta_equation)\n",
    "theta_equation_dummified"
   ]
  },
  {
   "cell_type": "code",
   "execution_count": 7,
   "metadata": {
    "collapsed": true
   },
   "outputs": [],
   "source": [
    "phi_equation_dummified=dummify_undefined_functions(phi_equation)"
   ]
  },
  {
   "cell_type": "markdown",
   "metadata": {},
   "source": [
    "Ok, now we're getting somewhere. \n",
    "\n",
    "For odeint we'll need to solve those two equations for dtheta_dtdt and dphi_dtdt. What I found was you have to tell sympy that all the weirdo things from dummify_undefined_functions are symbols for the solve command to work"
   ]
  },
  {
   "cell_type": "code",
   "execution_count": 11,
   "metadata": {},
   "outputs": [
    {
     "data": {
      "text/plain": [
       "{dtheta_dtdt: (L1*dtheta_dt**2*m2*sin(2*phi - 2*theta)/2 + L2*dphi_dt**2*m2*sin(phi - theta) - g*m1*sin(theta) - g*m2*sin(theta)/2 + g*m2*sin(2*phi - theta)/2)/(L1*(m1 - m2*cos(phi - theta)**2 + m2)),\n",
       " dphi_dtdt: (-(m1 + m2)*(L1*dtheta_dt**2*sin(phi - theta) + g*sin(phi)) + (-L2*dphi_dt**2*m2*sin(phi - theta) + g*m1*sin(theta) + g*m2*sin(theta))*cos(phi - theta))/(L2*(m1 - m2*cos(phi - theta)**2 + m2))}"
      ]
     },
     "execution_count": 11,
     "metadata": {},
     "output_type": "execute_result"
    }
   ],
   "source": [
    "dphi_dt, dphi_dtdt, dtheta_dt, dtheta_dtdt = sym.symbols('dphi_dt, dphi_dtdt, dtheta_dt, dtheta_dtdt')\n",
    "equations=sym.solve([theta_equation_dummified, phi_equation_dummified], [dtheta_dtdt, dphi_dtdt])\n",
    "equations"
   ]
  },
  {
   "cell_type": "markdown",
   "metadata": {},
   "source": [
    "Ok, now we're in business! Those two equations are ready to be used along with d(theta)/dt = dtheta_dt and d(phi)/dt = dphi_dt in odeint (along with setting all the other constants to values)"
   ]
  },
  {
   "cell_type": "code",
   "execution_count": 31,
   "metadata": {},
   "outputs": [
    {
     "data": {
      "text/plain": [
       "(-2*dtheta_dt**2*sin(phi - theta) + (-dphi_dt**2*sin(phi - theta) + 19.6*sin(theta))*cos(phi - theta) - 19.6*sin(phi))/(-cos(phi - theta)**2 + 2)"
      ]
     },
     "execution_count": 31,
     "metadata": {},
     "output_type": "execute_result"
    }
   ],
   "source": [
    "phi_subs = equations[dphi_dtdt].subs([(L1,1),(L2,1),(m1,1),(m2,1),(g,9.8)])\n",
    "theta_subs = equations[dtheta_dtdt].subs([(L1,1),(L2,1),(m1,1),(m2,1),(g,9.8)])\n",
    "phi_subs"
   ]
  },
  {
   "cell_type": "code",
   "execution_count": 32,
   "metadata": {},
   "outputs": [],
   "source": [
    "phi, theta = sym.symbols('phi, theta')\n",
    "phi_ode=sym.lambdify((phi, theta, dtheta_dt, dphi_dt), phi_subs, \"sympy\")\n",
    "theta_ode = sym.lambdify((phi, theta, dtheta_dt, dphi_dt), theta_subs, \"sympy\")"
   ]
  },
  {
   "cell_type": "code",
   "execution_count": 45,
   "metadata": {},
   "outputs": [],
   "source": [
    "from numpy import sqrt, linspace \n",
    "from scipy.integrate import odeint\n",
    "from pylab import plot, axis, show"
   ]
  },
  {
   "cell_type": "code",
   "execution_count": 43,
   "metadata": {},
   "outputs": [],
   "source": [
    "def odefunction(z, time):\n",
    "    dphi_dt=z[3]\n",
    "    dtheta_dt=z[2]\n",
    "    theta = z[0]\n",
    "    phi = z[1]\n",
    "    return [dtheta_dt, dphi_dt, theta_ode(phi, theta, dtheta_dt, dphi_dt), phi_ode(phi, theta, dtheta_dt, dphi_dt)]"
   ]
  },
  {
   "cell_type": "code",
   "execution_count": 51,
   "metadata": {},
   "outputs": [],
   "source": [
    "times=linspace(0,10,100)\n",
    "res=odeint(odefunction,[np.pi/2, np.pi/2,0,0],times)"
   ]
  },
  {
   "cell_type": "code",
   "execution_count": 52,
   "metadata": {},
   "outputs": [
    {
     "data": {
      "image/png": "[encoded data removed]",
      "text/plain": [
       "<matplotlib.figure.Figure at 0xb2be5c0>"
      ]
     },
     "metadata": {},
     "output_type": "display_data"
    }
   ],
   "source": [
    "plot(times, res[:,0]) \n",
    "axis('equal') \n",
    "show()"
   ]
  },
  {
   "cell_type": "code",
   "execution_count": 40,
   "metadata": {},
   "outputs": [
    {
     "data": {
      "text/plain": [
       "<function <lambda>>"
      ]
     },
     "execution_count": 40,
     "metadata": {},
     "output_type": "execute_result"
    }
   ],
   "source": [
    "theta_ode"
   ]
  },
  {
   "cell_type": "code",
   "execution_count": null,
   "metadata": {
    "collapsed": true
   },
   "outputs": [],
   "source": []
  }
 ],
 "metadata": {
  "kernelspec": {
   "display_name": "Python 3",
   "language": "python",
   "name": "python3"
  },
  "language_info": {
   "codemirror_mode": {
    "name": "ipython",
    "version": 3
   },
   "file_extension": ".py",
   "mimetype": "text/x-python",
   "name": "python",
   "nbconvert_exporter": "python",
   "pygments_lexer": "ipython3",
   "version": "3.6.1"
  }
 },
 "nbformat": 4,
 "nbformat_minor": 2
}
